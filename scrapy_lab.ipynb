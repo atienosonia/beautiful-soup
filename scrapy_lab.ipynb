{
 "cells": [
  {
   "cell_type": "code",
   "execution_count": 3,
   "metadata": {},
   "outputs": [],
   "source": [
    "import pandas as pd \n",
    "from bs4 import BeautifulSoup\n",
    "import requests"
   ]
  },
  {
   "cell_type": "code",
   "execution_count": null,
   "metadata": {},
   "outputs": [],
   "source": [
    "# retrieving titles\n",
    "html_page = requests.get(\"web_page_address.com\")\n",
    "soup = BeautifulSoup(html_page, 'html.parser')\n",
    "# select a container\n",
    "soup.find('div', class_ = 'alert alert-warning')\n",
    "book_container = soup.nextSibling.nextSibling\n",
    "titles = [h3.find('a').attrs['title'] for h3 in book_container.find_all('h3')]"
   ]
  },
  {
   "cell_type": "code",
   "execution_count": 4,
   "metadata": {},
   "outputs": [],
   "source": [
    "def retrieve_title(soup):\n",
    "    soup.find(\"div\", class_ = \"alert alert-warning\")\n",
    "    book_container = soup.nextSibling.nextSibling\n",
    "    titles = [h3.find(\"a\").attrs['title'] for h3 in book_container.find_all('h3')]"
   ]
  },
  {
   "cell_type": "code",
   "execution_count": null,
   "metadata": {},
   "outputs": [],
   "source": [
    "# retrieving ratings"
   ]
  }
 ],
 "metadata": {
  "kernelspec": {
   "display_name": "learn-env",
   "language": "python",
   "name": "python3"
  },
  "language_info": {
   "codemirror_mode": {
    "name": "ipython",
    "version": 3
   },
   "file_extension": ".py",
   "mimetype": "text/x-python",
   "name": "python",
   "nbconvert_exporter": "python",
   "pygments_lexer": "ipython3",
   "version": "3.8.5"
  }
 },
 "nbformat": 4,
 "nbformat_minor": 2
}
