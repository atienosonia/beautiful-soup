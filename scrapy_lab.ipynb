{
 "cells": [
  {
   "cell_type": "code",
   "execution_count": 5,
   "metadata": {},
   "outputs": [],
   "source": [
    "import pandas as pd \n",
    "from bs4 import BeautifulSoup\n",
    "import requests\n",
    "import re"
   ]
  },
  {
   "cell_type": "code",
   "execution_count": 8,
   "metadata": {},
   "outputs": [
    {
     "data": {
      "text/plain": [
       "'\\n# retrieving titles\\nhtml_page = requests.get(\"web_page_address.com\")\\nsoup = BeautifulSoup(html_page, \\'html.parser\\')\\n# select a container\\nsoup.find(\\'div\\', class_ = \\'alert alert-warning\\')\\nbook_container = soup.nextSibling.nextSibling\\ntitles = [h3.find(\\'a\\').attrs[\\'title\\'] for h3 in book_container.find_all(\\'h3\\')]\\n\\n'"
      ]
     },
     "execution_count": 8,
     "metadata": {},
     "output_type": "execute_result"
    }
   ],
   "source": [
    "\"\"\"\n",
    "# retrieving titles\n",
    "html_page = requests.get(\"web_page_address.com\")\n",
    "soup = BeautifulSoup(html_page, 'html.parser')\n",
    "# select a container\n",
    "soup.find('div', class_ = 'alert alert-warning')\n",
    "book_container = soup.nextSibling.nextSibling\n",
    "titles = [h3.find('a').attrs['title'] for h3 in book_container.find_all('h3')]\n",
    "\n",
    "\"\"\""
   ]
  },
  {
   "cell_type": "code",
   "execution_count": 4,
   "metadata": {},
   "outputs": [],
   "source": [
    "def retrieve_title(soup):\n",
    "    soup.find(\"div\", class_ = \"alert alert-warning\")\n",
    "    book_container = soup.nextSibling.nextSibling\n",
    "    titles = [h3.find(\"a\").attrs['title'] for h3 in book_container.find_all('h3')]"
   ]
  },
  {
   "cell_type": "code",
   "execution_count": 9,
   "metadata": {},
   "outputs": [
    {
     "data": {
      "text/plain": [
       "'\\n# retrieving ratings\\nregex = re.compile(\"star-rating(.*)\")\\nbook_container.find_all(\\'p\\', {\"class\" : regex})\\nstar_ratings = []\\nfor p in book_container.find_all(\\'p\\', {\"class\":regex}):\\n    star_ratings.append(p.attrs[\\'class\\'][-1])\\nstar_ratings\\n\\nstar_dict = {\"One\" : 1, \"Two\" : 2, \"Three\" : 3, \"Four\": 4, \"Five\" : 5}\\nstar_ratings = [star_dict[s] for s in star_ratings]\\n'"
      ]
     },
     "execution_count": 9,
     "metadata": {},
     "output_type": "execute_result"
    }
   ],
   "source": [
    "\"\"\"\n",
    "# retrieving ratings\n",
    "regex = re.compile(\"star-rating(.*)\")\n",
    "book_container.find_all('p', {\"class\" : regex})\n",
    "star_ratings = []\n",
    "for p in book_container.find_all('p', {\"class\":regex}):\n",
    "    star_ratings.append(p.attrs['class'][-1])\n",
    "star_ratings\n",
    "\n",
    "star_dict = {\"One\" : 1, \"Two\" : 2, \"Three\" : 3, \"Four\": 4, \"Five\" : 5}\n",
    "star_ratings = [star_dict[s] for s in star_ratings]\n",
    "\"\"\"\n"
   ]
  },
  {
   "cell_type": "code",
   "execution_count": 10,
   "metadata": {},
   "outputs": [],
   "source": [
    "def retrieve_ratings(soup):\n",
    "    regex = re.compile(\"star-ratings(.*)\")\n",
    "    book_container = soup.nextSibling.nextSibling\n",
    "    book_container.find_all('p', {\"class\":regex})\n",
    "    star_ratings = []\n",
    "    for p in book_container.find_all('p', {\"class\":regex}):\n",
    "        star_ratings.append(p.attrs['class'][-1])\n",
    "\n",
    "    star_ratings\n",
    "    star_dict = {\"One\" : 1, \"Two\" : 2, \"Three\" : 3, \"Four\" : 4, \"Five\": 5}\n",
    "    star_ratings = [star_dict[s]for s in star_ratings]"
   ]
  },
  {
   "cell_type": "code",
   "execution_count": null,
   "metadata": {},
   "outputs": [],
   "source": []
  }
 ],
 "metadata": {
  "kernelspec": {
   "display_name": "learn-env",
   "language": "python",
   "name": "python3"
  },
  "language_info": {
   "codemirror_mode": {
    "name": "ipython",
    "version": 3
   },
   "file_extension": ".py",
   "mimetype": "text/x-python",
   "name": "python",
   "nbconvert_exporter": "python",
   "pygments_lexer": "ipython3",
   "version": "3.8.5"
  }
 },
 "nbformat": 4,
 "nbformat_minor": 2
}
